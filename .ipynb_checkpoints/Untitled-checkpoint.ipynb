{
 "cells": [
  {
   "cell_type": "code",
   "execution_count": 10,
   "metadata": {},
   "outputs": [
    {
     "name": "stdout",
     "output_type": "stream",
     "text": [
      "{'l': 0, '8': 1, '0': 2, '¿': 3, 'v': 4, 'm': 5, '\\xa0': 6, 'p': 7, 'U': 8, 'A': 9, 'c': 10, 'H': 11, '*': 12, '¤': 13, '»': 14, '4': 15, '\"': 16, ':': 17, '5': 18, '6': 19, '\\n': 20, \"'\": 21, 'w': 22, 't': 23, ' ': 24, 'T': 25, 'g': 26, 'S': 27, 's': 28, 'o': 29, 'k': 30, 'C': 31, '.': 32, 'q': 33, 'z': 34, 'P': 35, '=': 36, '-': 37, 'Q': 38, 'i': 39, 'Ã': 40, '©': 41, 'a': 42, 'V': 43, 'h': 44, 'J': 45, ',': 46, 'B': 47, ')': 48, '/': 49, 'G': 50, 'b': 51, ';': 52, 'L': 53, 'K': 54, '(': 55, 'Y': 56, '3': 57, 'M': 58, 'ï': 59, '!': 60, 'F': 61, 'Z': 62, '?': 63, 'ª': 64, 'R': 65, 'd': 66, 'n': 67, 'I': 68, 'O': 69, 'E': 70, '1': 71, 'N': 72, '2': 73, 'r': 74, 'e': 75, 'f': 76, 'W': 77, 'j': 78, 'D': 79, 'X': 80, 'u': 81, 'y': 82, '7': 83, 'x': 84, '9': 85}\n",
      "{0: 'l', 1: '8', 2: '0', 3: '¿', 4: 'v', 5: 'm', 6: '\\xa0', 7: 'p', 8: 'U', 9: 'A', 10: 'c', 11: 'H', 12: '*', 13: '¤', 14: '»', 15: '4', 16: '\"', 17: ':', 18: '5', 19: '6', 20: '\\n', 21: \"'\", 22: 'w', 23: 't', 24: ' ', 25: 'T', 26: 'g', 27: 'S', 28: 's', 29: 'o', 30: 'k', 31: 'C', 32: '.', 33: 'q', 34: 'z', 35: 'P', 36: '=', 37: '-', 38: 'Q', 39: 'i', 40: 'Ã', 41: '©', 42: 'a', 43: 'V', 44: 'h', 45: 'J', 46: ',', 47: 'B', 48: ')', 49: '/', 50: 'G', 51: 'b', 52: ';', 53: 'L', 54: 'K', 55: '(', 56: 'Y', 57: '3', 58: 'M', 59: 'ï', 60: '!', 61: 'F', 62: 'Z', 63: '?', 64: 'ª', 65: 'R', 66: 'd', 67: 'n', 68: 'I', 69: 'O', 70: 'E', 71: '1', 72: 'N', 73: '2', 74: 'r', 75: 'e', 76: 'f', 77: 'W', 78: 'j', 79: 'D', 80: 'X', 81: 'u', 82: 'y', 83: '7', 84: 'x', 85: '9'}\n"
     ]
    }
   ],
   "source": [
    "import tensorflow as tf\n",
    "K = tf.keras\n",
    "\n",
    "with open('./Data/warpeace_input.txt','r') as f:\n",
    "    data = f.read()\n",
    "\n",
    "uniq_char = set(data)\n",
    "\n",
    "idx2char = dict()\n",
    "char2idx = dict()\n",
    "\n",
    "for i,x in enumerate(uniq_char):\n",
    "    idx2char[i] = x\n",
    "    char2idx[x] = i\n",
    "\n",
    "print(char2idx)\n",
    "print(idx2char)"
   ]
  },
  {
   "cell_type": "code",
   "execution_count": 11,
   "metadata": {},
   "outputs": [
    {
     "name": "stdout",
     "output_type": "stream",
     "text": [
      "86\n"
     ]
    }
   ],
   "source": [
    "VOCAB_SIZE = len(char2idx)\n",
    "print(VOCAB_SIZE)"
   ]
  },
  {
   "cell_type": "code",
   "execution_count": 12,
   "metadata": {},
   "outputs": [
    {
     "name": "stdout",
     "output_type": "stream",
     "text": [
      "# Of sequences 1065400\n"
     ]
    }
   ],
   "source": [
    "# Hyper-parameter: size of context window.\n",
    "SEQ_LEN = 32\n",
    "STEP = 3\n",
    "input_sequence = []\n",
    "output_char = []\n",
    "\n",
    "for start in range(0,len(data)-SEQ_LEN,STEP):\n",
    "    input_sequence.append(data[start:start+SEQ_LEN])\n",
    "    output_char.append(data[start+SEQ_LEN])\n",
    "print('# Of sequences',len(input_sequence))\n",
    "NB_SEQ = len(input_sequence)"
   ]
  },
  {
   "cell_type": "code",
   "execution_count": 13,
   "metadata": {},
   "outputs": [],
   "source": [
    "import numpy as np\n",
    "# With the default dtype=float these arrays will cause OOM.\n",
    "X_one_hot = np.zeros([NB_SEQ,SEQ_LEN,VOCAB_SIZE],dtype=np.int8)\n",
    "y_one_hot = np.zeros([NB_SEQ,VOCAB_SIZE],dtype=np.int8)"
   ]
  },
  {
   "cell_type": "code",
   "execution_count": 14,
   "metadata": {},
   "outputs": [],
   "source": [
    "for i in range(NB_SEQ):\n",
    "    # Iterate over all sequences.\n",
    "    # Convert each sequence to indices in the vocabulary.\n",
    "    seq_as_char = input_sequence[i]\n",
    "    seq_as_idx  = [char2idx[c] for c in seq_as_char]\n",
    "    # Convert each character in the sequence to one-hot representation.\n",
    "    for seq_id,char_idx in enumerate(seq_as_idx):\n",
    "        X_one_hot[i,seq_id,char_idx] = 1\n",
    "    y_one_hot[i,char2idx[output_char[i]]] = 1"
   ]
  },
  {
   "cell_type": "code",
   "execution_count": 15,
   "metadata": {},
   "outputs": [],
   "source": [
    "HIDDEN_STATE_SZ = 512\n",
    "NB_LAYERS = 3"
   ]
  },
  {
   "cell_type": "code",
   "execution_count": 24,
   "metadata": {},
   "outputs": [],
   "source": [
    "\n",
    "model = K.Sequential()\n",
    "model.add(K.layers.LSTM(HIDDEN_STATE_SZ, input_shape=(SEQ_LEN, VOCAB_SIZE), return_sequences=True))\n",
    "for i in range(NB_LAYERS - 2):\n",
    "    model.add(K.layers.LSTM(HIDDEN_STATE_SZ, return_sequences=True))\n",
    "model.add(K.layers.LSTM(HIDDEN_STATE_SZ))\n",
    "model.add(K.layers.Dense(VOCAB_SIZE))\n",
    "model.add(K.layers.Activation('softmax'))\n",
    "model.compile(loss=\"categorical_crossentropy\", optimizer=\"rmsprop\")"
   ]
  },
  {
   "cell_type": "code",
   "execution_count": null,
   "metadata": {},
   "outputs": [
    {
     "name": "stdout",
     "output_type": "stream",
     "text": [
      "Epoch 1/1\n",
      "   8960/1065400 [..............................] - ETA: 24:53:33 - loss: 3.2460"
     ]
    }
   ],
   "source": [
    "model.fit(X_one_hot,y_one_hot,batch_size=128)"
   ]
  },
  {
   "cell_type": "code",
   "execution_count": null,
   "metadata": {},
   "outputs": [],
   "source": [
    "# Used from Keras LSTM example:\n",
    "#https://github.com/keras-team/keras/blob/master/examples/lstm_text_generation.py\n",
    "def sample(preds, temperature=1.0):\n",
    "    # helper function to sample an index from a probability array\n",
    "    preds = np.asarray(preds).astype('float64')\n",
    "    preds = np.log(preds) / temperature\n",
    "    exp_preds = np.exp(preds)\n",
    "    preds = exp_preds / np.sum(exp_preds)\n",
    "    probas = np.random.multinomial(1, preds, 1)\n",
    "    return np.argmax(probas)\n",
    "\n",
    "#https://github.com/keras-team/keras/blob/master/examples/lstm_text_generation.py\n",
    "def on_epoch_end(epoch, logs):\n",
    "    # Function invoked at end of each epoch. Prints generated text.\n",
    "    print()\n",
    "    print('----- Generating text after Epoch: %d' % epoch)\n",
    "\n",
    "    start_index = random.randint(0, len(text) - SEQ_LEN - 1)\n",
    "    for diversity in [0.2, 0.5, 1.0, 1.2]:\n",
    "        print('----- diversity:', diversity)\n",
    "\n",
    "        generated = ''\n",
    "        sentence = data[start_index: start_index + SEQ_LEN]\n",
    "        generated += sentence\n",
    "        print('----- Generating with seed: \"' + sentence + '\"')\n",
    "        sys.stdout.write(generated)\n",
    "\n",
    "        for i in range(400):\n",
    "            x_pred = np.zeros((1, SEQ_LEN, len(chars)))\n",
    "            for t, char in enumerate(sentence):\n",
    "                x_pred[0, t, char2idx[char]] = 1.\n",
    "\n",
    "            preds = model.predict(x_pred, verbose=0)[0]\n",
    "            next_index = sample(preds, diversity)\n",
    "            next_char = idx2char[next_index]\n",
    "\n",
    "            generated += next_char\n",
    "            sentence = sentence[1:] + next_char\n",
    "\n",
    "            sys.stdout.write(next_char)\n",
    "            sys.stdout.flush()\n",
    "print()"
   ]
  },
  {
   "cell_type": "code",
   "execution_count": null,
   "metadata": {},
   "outputs": [],
   "source": [
    "print_callback = LambdaCallback(on_epoch_end=on_epoch_end)\n",
    "model.fit(X_one_hot,y_one_hot,batch_size=128, epochs=5, callbacks=[print_callback])"
   ]
  }
 ],
 "metadata": {
  "kernelspec": {
   "display_name": "Python 3",
   "language": "python",
   "name": "python3"
  },
  "language_info": {
   "codemirror_mode": {
    "name": "ipython",
    "version": 3
   },
   "file_extension": ".py",
   "mimetype": "text/x-python",
   "name": "python",
   "nbconvert_exporter": "python",
   "pygments_lexer": "ipython3",
   "version": "3.6.5"
  }
 },
 "nbformat": 4,
 "nbformat_minor": 2
}
